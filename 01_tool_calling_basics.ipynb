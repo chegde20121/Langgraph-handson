{
 "cells": [
  {
   "cell_type": "markdown",
   "metadata": {},
   "source": [
    "# Tool calling basics"
   ]
  },
  {
   "cell_type": "code",
   "execution_count": null,
   "metadata": {},
   "outputs": [],
   "source": [
    "from langchain_ibm import ChatWatsonx\n",
    "from ibm_watsonx_ai import Credentials, APIClient\n",
    "from dotenv import load_dotenv\n",
    "import os\n",
    "load_dotenv()\n",
    "\n",
    "WML_URL=os.getenv(\"WML_URL\",\"\")\n",
    "CLOUD_API_KEY=os.getenv(\"CLOUD_API_KEY\",\"\")\n",
    "LLM_MODEL=os.getenv(\"LLM_MODEL\",\"\")\n",
    "DEPLOYMENT_SPACE_ID=os.getenv(\"DEPLOYMENT_SPACE_ID\",\"\")\n",
    "creds = Credentials(\n",
    "                url=WML_URL,\n",
    "                api_key=CLOUD_API_KEY\n",
    ")\n",
    "param = {\n",
    "        \"decoding_method\": \"greedy\"\n",
    "}\n",
    "\n",
    "\n",
    "def get_llm()->ChatWatsonx:\n",
    "    client = APIClient(creds)\n",
    "    client.set.default_space(DEPLOYMENT_SPACE_ID)\n",
    "    model = ChatWatsonx(\n",
    "            model_id=LLM_MODEL,\n",
    "            watsonx_client=client,\n",
    "            params=param\n",
    "        )\n",
    "    return model\n",
    "llm=get_llm()"
   ]
  },
  {
   "cell_type": "code",
   "execution_count": null,
   "metadata": {},
   "outputs": [],
   "source": [
    "from IPython.display import display, JSON\n",
    "client = APIClient(creds)\n",
    "client.set.default_space(DEPLOYMENT_SPACE_ID)\n",
    "model_list=client.foundation_models.get_chat_function_calling_model_specs()\n",
    "display(JSON(model_list))"
   ]
  },
  {
   "cell_type": "code",
   "execution_count": null,
   "metadata": {},
   "outputs": [],
   "source": [
    "llm.invoke(\"How will the weather in munich today?\")"
   ]
  },
  {
   "cell_type": "code",
   "execution_count": null,
   "metadata": {},
   "outputs": [],
   "source": [
    "from langchain_core.tools import tool\n",
    "\n",
    "\n",
    "@tool\n",
    "def get_weather(location: str):\n",
    "    \"\"\"Call to get the current weather.\"\"\"\n",
    "    if location.lower() in [\"munich\"]:\n",
    "        return \"It's 15 degrees Celsius and cloudy.\"\n",
    "    else:\n",
    "        return \"It's 32 degrees Celsius and sunny.\"\n",
    "\n",
    "\n",
    "@tool\n",
    "def check_seating_availability(location: str, seating_type: str):\n",
    "    \"\"\"Call to check seating availability.\"\"\"\n",
    "    if location.lower() == \"munich\" and seating_type.lower() == \"outdoor\":\n",
    "        return \"Yes, we still have seats available outdoors.\"\n",
    "    elif location.lower() == \"munich\" and seating_type.lower() == \"indoor\":\n",
    "        return \"Yes, we have indoor seating available.\"\n",
    "    else:\n",
    "        return \"Sorry, seating information for this location is unavailable.\"\n",
    "\n",
    "\n",
    "tools = [get_weather, check_seating_availability]"
   ]
  },
  {
   "cell_type": "code",
   "execution_count": null,
   "metadata": {},
   "outputs": [],
   "source": [
    "llm_with_tools = llm.bind_tools(tools)"
   ]
  },
  {
   "cell_type": "code",
   "execution_count": null,
   "metadata": {},
   "outputs": [],
   "source": [
    "result = llm_with_tools.invoke(\"How will the weather be in munich today?\")\n",
    "result"
   ]
  },
  {
   "cell_type": "code",
   "execution_count": null,
   "metadata": {},
   "outputs": [],
   "source": [
    "result.tool_calls"
   ]
  },
  {
   "cell_type": "code",
   "execution_count": null,
   "metadata": {},
   "outputs": [],
   "source": [
    "result = llm_with_tools.invoke(\n",
    "    \"How will the weather be in munich today? Do you still have seats outdoor available?\"\n",
    ")\n",
    "result"
   ]
  },
  {
   "cell_type": "code",
   "execution_count": null,
   "metadata": {},
   "outputs": [],
   "source": [
    "result.tool_calls"
   ]
  },
  {
   "cell_type": "code",
   "execution_count": null,
   "metadata": {},
   "outputs": [],
   "source": [
    "from langchain_core.messages import HumanMessage, ToolMessage\n",
    "\n",
    "messages = [\n",
    "    HumanMessage(\n",
    "        \"How will the weather be in munich today? Do you still have seats outdoor available?\"\n",
    "    )\n",
    "]\n",
    "llm_output = llm_with_tools.invoke(messages)\n",
    "messages.append(llm_output)"
   ]
  },
  {
   "cell_type": "code",
   "execution_count": null,
   "metadata": {},
   "outputs": [],
   "source": [
    "messages"
   ]
  },
  {
   "cell_type": "code",
   "execution_count": null,
   "metadata": {},
   "outputs": [],
   "source": [
    "tool_mapping = {\n",
    "    \"get_weather\": get_weather,\n",
    "    \"check_seating_availability\": check_seating_availability,\n",
    "}"
   ]
  },
  {
   "cell_type": "code",
   "execution_count": null,
   "metadata": {},
   "outputs": [],
   "source": [
    "llm_output.tool_calls"
   ]
  },
  {
   "cell_type": "code",
   "execution_count": null,
   "metadata": {},
   "outputs": [],
   "source": [
    "for tool_call in llm_output.tool_calls:\n",
    "    tool = tool_mapping[tool_call[\"name\"].lower()]\n",
    "    tool_output = tool.invoke(tool_call[\"args\"])\n",
    "    messages.append(ToolMessage(tool_output, tool_call_id=tool_call[\"id\"]))"
   ]
  },
  {
   "cell_type": "code",
   "execution_count": null,
   "metadata": {},
   "outputs": [],
   "source": [
    "messages"
   ]
  },
  {
   "cell_type": "code",
   "execution_count": null,
   "metadata": {},
   "outputs": [],
   "source": [
    "llm_with_tools.invoke(messages)"
   ]
  }
 ],
 "metadata": {
  "kernelspec": {
   "display_name": "Python 3.13.0 ('.venv': venv)",
   "language": "python",
   "name": "python3"
  },
  "language_info": {
   "codemirror_mode": {
    "name": "ipython",
    "version": 3
   },
   "file_extension": ".py",
   "mimetype": "text/x-python",
   "name": "python",
   "nbconvert_exporter": "python",
   "pygments_lexer": "ipython3",
   "version": "3.13.0"
  },
  "orig_nbformat": 4,
  "vscode": {
   "interpreter": {
    "hash": "71752aee930b5c29fb3ed0fda56f279fc4e10dda0a369f534ac3791ef3ddd313"
   }
  }
 },
 "nbformat": 4,
 "nbformat_minor": 2
}
